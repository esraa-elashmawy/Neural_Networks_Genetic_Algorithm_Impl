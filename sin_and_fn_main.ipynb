{
  "nbformat": 4,
  "nbformat_minor": 0,
  "metadata": {
    "colab": {
      "provenance": []
    },
    "kernelspec": {
      "name": "python3",
      "display_name": "Python 3"
    },
    "language_info": {
      "name": "python"
    }
  },
  "cells": [
    {
      "cell_type": "code",
      "source": [
        "from google.colab import files\n",
        "files.upload()"
      ],
      "metadata": {
        "colab": {
          "base_uri": "https://localhost:8080/",
          "height": 621
        },
        "id": "HsEgyB6QfTdx",
        "outputId": "d12214d0-6633-4d73-fba5-dc855f05e6c6"
      },
      "execution_count": 125,
      "outputs": [
        {
          "output_type": "display_data",
          "data": {
            "text/plain": [
              "<IPython.core.display.HTML object>"
            ],
            "text/html": [
              "\n",
              "     <input type=\"file\" id=\"files-f0fc0a8b-111f-45f5-8c0d-1ec244f3b919\" name=\"files[]\" multiple disabled\n",
              "        style=\"border:none\" />\n",
              "     <output id=\"result-f0fc0a8b-111f-45f5-8c0d-1ec244f3b919\">\n",
              "      Upload widget is only available when the cell has been executed in the\n",
              "      current browser session. Please rerun this cell to enable.\n",
              "      </output>\n",
              "      <script>// Copyright 2017 Google LLC\n",
              "//\n",
              "// Licensed under the Apache License, Version 2.0 (the \"License\");\n",
              "// you may not use this file except in compliance with the License.\n",
              "// You may obtain a copy of the License at\n",
              "//\n",
              "//      http://www.apache.org/licenses/LICENSE-2.0\n",
              "//\n",
              "// Unless required by applicable law or agreed to in writing, software\n",
              "// distributed under the License is distributed on an \"AS IS\" BASIS,\n",
              "// WITHOUT WARRANTIES OR CONDITIONS OF ANY KIND, either express or implied.\n",
              "// See the License for the specific language governing permissions and\n",
              "// limitations under the License.\n",
              "\n",
              "/**\n",
              " * @fileoverview Helpers for google.colab Python module.\n",
              " */\n",
              "(function(scope) {\n",
              "function span(text, styleAttributes = {}) {\n",
              "  const element = document.createElement('span');\n",
              "  element.textContent = text;\n",
              "  for (const key of Object.keys(styleAttributes)) {\n",
              "    element.style[key] = styleAttributes[key];\n",
              "  }\n",
              "  return element;\n",
              "}\n",
              "\n",
              "// Max number of bytes which will be uploaded at a time.\n",
              "const MAX_PAYLOAD_SIZE = 100 * 1024;\n",
              "\n",
              "function _uploadFiles(inputId, outputId) {\n",
              "  const steps = uploadFilesStep(inputId, outputId);\n",
              "  const outputElement = document.getElementById(outputId);\n",
              "  // Cache steps on the outputElement to make it available for the next call\n",
              "  // to uploadFilesContinue from Python.\n",
              "  outputElement.steps = steps;\n",
              "\n",
              "  return _uploadFilesContinue(outputId);\n",
              "}\n",
              "\n",
              "// This is roughly an async generator (not supported in the browser yet),\n",
              "// where there are multiple asynchronous steps and the Python side is going\n",
              "// to poll for completion of each step.\n",
              "// This uses a Promise to block the python side on completion of each step,\n",
              "// then passes the result of the previous step as the input to the next step.\n",
              "function _uploadFilesContinue(outputId) {\n",
              "  const outputElement = document.getElementById(outputId);\n",
              "  const steps = outputElement.steps;\n",
              "\n",
              "  const next = steps.next(outputElement.lastPromiseValue);\n",
              "  return Promise.resolve(next.value.promise).then((value) => {\n",
              "    // Cache the last promise value to make it available to the next\n",
              "    // step of the generator.\n",
              "    outputElement.lastPromiseValue = value;\n",
              "    return next.value.response;\n",
              "  });\n",
              "}\n",
              "\n",
              "/**\n",
              " * Generator function which is called between each async step of the upload\n",
              " * process.\n",
              " * @param {string} inputId Element ID of the input file picker element.\n",
              " * @param {string} outputId Element ID of the output display.\n",
              " * @return {!Iterable<!Object>} Iterable of next steps.\n",
              " */\n",
              "function* uploadFilesStep(inputId, outputId) {\n",
              "  const inputElement = document.getElementById(inputId);\n",
              "  inputElement.disabled = false;\n",
              "\n",
              "  const outputElement = document.getElementById(outputId);\n",
              "  outputElement.innerHTML = '';\n",
              "\n",
              "  const pickedPromise = new Promise((resolve) => {\n",
              "    inputElement.addEventListener('change', (e) => {\n",
              "      resolve(e.target.files);\n",
              "    });\n",
              "  });\n",
              "\n",
              "  const cancel = document.createElement('button');\n",
              "  inputElement.parentElement.appendChild(cancel);\n",
              "  cancel.textContent = 'Cancel upload';\n",
              "  const cancelPromise = new Promise((resolve) => {\n",
              "    cancel.onclick = () => {\n",
              "      resolve(null);\n",
              "    };\n",
              "  });\n",
              "\n",
              "  // Wait for the user to pick the files.\n",
              "  const files = yield {\n",
              "    promise: Promise.race([pickedPromise, cancelPromise]),\n",
              "    response: {\n",
              "      action: 'starting',\n",
              "    }\n",
              "  };\n",
              "\n",
              "  cancel.remove();\n",
              "\n",
              "  // Disable the input element since further picks are not allowed.\n",
              "  inputElement.disabled = true;\n",
              "\n",
              "  if (!files) {\n",
              "    return {\n",
              "      response: {\n",
              "        action: 'complete',\n",
              "      }\n",
              "    };\n",
              "  }\n",
              "\n",
              "  for (const file of files) {\n",
              "    const li = document.createElement('li');\n",
              "    li.append(span(file.name, {fontWeight: 'bold'}));\n",
              "    li.append(span(\n",
              "        `(${file.type || 'n/a'}) - ${file.size} bytes, ` +\n",
              "        `last modified: ${\n",
              "            file.lastModifiedDate ? file.lastModifiedDate.toLocaleDateString() :\n",
              "                                    'n/a'} - `));\n",
              "    const percent = span('0% done');\n",
              "    li.appendChild(percent);\n",
              "\n",
              "    outputElement.appendChild(li);\n",
              "\n",
              "    const fileDataPromise = new Promise((resolve) => {\n",
              "      const reader = new FileReader();\n",
              "      reader.onload = (e) => {\n",
              "        resolve(e.target.result);\n",
              "      };\n",
              "      reader.readAsArrayBuffer(file);\n",
              "    });\n",
              "    // Wait for the data to be ready.\n",
              "    let fileData = yield {\n",
              "      promise: fileDataPromise,\n",
              "      response: {\n",
              "        action: 'continue',\n",
              "      }\n",
              "    };\n",
              "\n",
              "    // Use a chunked sending to avoid message size limits. See b/62115660.\n",
              "    let position = 0;\n",
              "    do {\n",
              "      const length = Math.min(fileData.byteLength - position, MAX_PAYLOAD_SIZE);\n",
              "      const chunk = new Uint8Array(fileData, position, length);\n",
              "      position += length;\n",
              "\n",
              "      const base64 = btoa(String.fromCharCode.apply(null, chunk));\n",
              "      yield {\n",
              "        response: {\n",
              "          action: 'append',\n",
              "          file: file.name,\n",
              "          data: base64,\n",
              "        },\n",
              "      };\n",
              "\n",
              "      let percentDone = fileData.byteLength === 0 ?\n",
              "          100 :\n",
              "          Math.round((position / fileData.byteLength) * 100);\n",
              "      percent.textContent = `${percentDone}% done`;\n",
              "\n",
              "    } while (position < fileData.byteLength);\n",
              "  }\n",
              "\n",
              "  // All done.\n",
              "  yield {\n",
              "    response: {\n",
              "      action: 'complete',\n",
              "    }\n",
              "  };\n",
              "}\n",
              "\n",
              "scope.google = scope.google || {};\n",
              "scope.google.colab = scope.google.colab || {};\n",
              "scope.google.colab._files = {\n",
              "  _uploadFiles,\n",
              "  _uploadFilesContinue,\n",
              "};\n",
              "})(self);\n",
              "</script> "
            ]
          },
          "metadata": {}
        },
        {
          "output_type": "stream",
          "name": "stdout",
          "text": [
            "Saving ga_for_sin.py to ga_for_sin.py\n"
          ]
        },
        {
          "output_type": "execute_result",
          "data": {
            "text/plain": [
              "{'ga_for_sin.py': b'# -*- coding: utf-8 -*-\\n\"\"\"GA_for_sin.ipynb\\n\\nAutomatically generated by Colaboratory.\\n\\nOriginal file is located at\\n    https://colab.research.google.com/drive/1yIMXcbt8pDDqB7ysjHgPgeXR7W9ilcjd\\n\"\"\"\\n\\nimport numpy\\nimport matplotlib.pyplot\\nimport math\\nimport random\\n\\ndef cal_pop_fitness(pop):\\n # Calculating the fitness value of each solution in the current population.\\n fitness = numpy.sin((math.pi *pop)/256)\\n return fitness\\n\\ndef select_mating_pool(pop, fitness, num_parents):\\n #parents = numpy.empty(num_parents)\\n  parents=[\\'\\' for x in range(num_parents)] \\n  for parent_num in range(num_parents):\\n    max_fitness_idx = numpy.where(fitness == numpy.max(fitness))\\n    max_fitness_idx = max_fitness_idx[0][0]\\n    parents[parent_num] = pop[max_fitness_idx]\\n    fitness[max_fitness_idx] = -99999999999\\n  return parents\\n\\ndef int_to_bin(int_vals):\\n  binary_population=[]\\n  val=\"\"\\n  for i in range(len(int_vals)):\\n    val=bin(int_vals[i])[2:]\\n    val=binary_to_gray_op(val)\\n    while len(val)<8 :\\n      val=\"0\"+val\\n    binary_population.append(val) \\n\\n  return binary_population\\n\\ndef crossover(parents, offspring_size,type):\\n    offspring = [\\'\\' for x in range(offspring_size)] \\n    if type==\\'50%\\':\\n    # The point at which crossover takes place between two parents. Usually, it is at the center.\\n      crossover_point = len(parents[0])//2\\n      #print(parents)\\n      for k in range(offspring_size):\\n          parent1_idx = k%len(parents)\\n          parent2_idx = (k+1)%len(parents) \\n          offspring[k]=parents[parent1_idx][0:crossover_point] + parents[parent2_idx][crossover_point:]\\n    \\n    elif type==\\'one-point\\':\\n      point = random.randint(0, len(parents[0])-1)\\n      for k in range((offspring_size//2)):\\n          parent1_idx = k*2\\n          parent2_idx = parent1_idx +1\\n          offspring[parent1_idx]=parents[parent1_idx][0:point] + parents[parent2_idx][point:]\\n          offspring[parent2_idx]=parents[parent2_idx][0:point] + parents[parent1_idx][point:]\\n\\n    elif type==\\'two-point\\':\\n      point1 = random.randint(0, len(parents[0])-1)\\n      point2 = random.randint(0, len(parents[0])-1)\\n    # print(point1,\"$$\",point2)\\n      for k in range((offspring_size//2)):\\n          parent1_idx = k*2\\n          parent2_idx = parent1_idx +1\\n          if point2>point1:\\n            offspring[parent1_idx]=parents[parent1_idx][:point1] + parents[parent2_idx][point1:point2] +parents[parent1_idx][point2:] \\n            offspring[parent2_idx]=parents[parent2_idx][:point1] + parents[parent1_idx][point1:point2]+ parents[parent2_idx][point2:] \\n          else:\\n            offspring[parent1_idx]=parents[parent2_idx][:point2] + parents[parent1_idx][point2:point1] +parents[parent2_idx][point1:] \\n            offspring[parent2_idx]=parents[parent1_idx][:point2] + parents[parent2_idx][point2:point1]+ parents[parent1_idx][point1:]         \\n\\n    return offspring\\n\\ndef mutation(offspring_crossover, mutation_prob):\\n    # Mutation changes a single gene in each offspring randomly.\\n    #number of genes that are going to be mutated:\\n    mutation_number=round(len(offspring_crossover)*mutation_prob)\\n    #print(mutation_number)\\n    mutation_gene_idxs=random.sample(range(0, len(offspring_crossover)), mutation_number)\\n    #print(mutation_gene_idxs)\\n    for idx in mutation_gene_idxs:\\n        # The random value to be added to the gene.\\n          random_value = random.randint(0,len(offspring_crossover[0])-1)\\n          if offspring_crossover[idx][random_value] ==\\'1\\':\\n            new_gene=offspring_crossover[idx][:random_value] + \"0\" + offspring_crossover[idx][random_value+1:]\\n            new_gene=repair_function(0,255,int(new_gene, 2))\\n            offspring_crossover[idx]=bin(new_gene)[2:]\\n          else:\\n            new_gene=offspring_crossover[idx][:random_value] + \"1\" + offspring_crossover[idx][random_value+1:]\\n            new_gene=repair_function(0,255,int(new_gene, 2))\\n            offspring_crossover[idx]=bin(new_gene)[2:]\\n\\n    return offspring_crossover\\n\\ndef repair_function(range1,range2,value):\\n  if value<range1 :\\n    value=range1\\n  if value>range2 :\\n    value=range2\\n  return value\\n\\ndef binary_to_gray_op(n):\\n   n = int(n, 2)\\n   n ^= (n >> 1)\\n\\n   return bin(n)[2:]\\n\\ndef gray_to_binary(n):\\n    \"\"\"Convert Gray codeword to binary and return it.\"\"\"\\n    n = int(n, 2) # convert to int\\n \\n    mask = n\\n    while mask != 0:\\n        mask >>= 1\\n        n ^= mask\\n    # bin(n) returns n\\'s binary representation with a \\'0b\\' prefixed\\n    # the slice operation is to remove the prefix\\n    return bin(n)[2:]'}"
            ]
          },
          "metadata": {},
          "execution_count": 125
        }
      ]
    },
    {
      "cell_type": "code",
      "source": [
        "import ga_for_sin as ga_sin\n",
        "import numpy\n"
      ],
      "metadata": {
        "id": "XpWAa90Zfe6q"
      },
      "execution_count": 126,
      "outputs": []
    },
    {
      "cell_type": "code",
      "execution_count": 121,
      "metadata": {
        "colab": {
          "base_uri": "https://localhost:8080/"
        },
        "id": "zISco8t8NomA",
        "outputId": "780d7a7d-2baf-49d7-fc8e-6be3bfcee4fc"
      },
      "outputs": [
        {
          "output_type": "stream",
          "name": "stdout",
          "text": [
            "[ 12 195  82 208  15 215 141 221]\n",
            "['00001100', '11000011', '01010010', '11010000', '00001111', '11010111', '10001101', '11011101']\n",
            "8\n"
          ]
        }
      ],
      "source": [
        "import numpy\n",
        "sol_per_pop = 8 #x pop_per_sol=8\n",
        "num_parents_mating = 4\n",
        "pop_size = (sol_per_pop)\n",
        "\n",
        "new_value_population = numpy.random.randint(255, size=pop_size)\n",
        "print(new_value_population)\n",
        "binary_population=[]\n",
        "val=\"\"\n",
        "for i in range(len(new_value_population)):\n",
        "  #new_pop[i]=bin(new_population[i])\n",
        "  val=bin(new_value_population[i])[2:]\n",
        "  while len(val)<8 :\n",
        "    val=\"0\"+val\n",
        "  binary_population.append(val) \n",
        "\n",
        "print(binary_population)\n",
        "print(len(binary_population))"
      ]
    },
    {
      "cell_type": "code",
      "source": [
        "def gray_to_binary(n):\n",
        "    \"\"\"Convert Gray codeword to binary and return it.\"\"\"\n",
        "    n = int(n, 2) # convert to int\n",
        " \n",
        "    mask = n\n",
        "    while mask != 0:\n",
        "        mask >>= 1\n",
        "        n ^= mask\n",
        "    # bin(n) returns n's binary representation with a '0b' prefixed\n",
        "    # the slice operation is to remove the prefix\n",
        "    return bin(n)[2:]\n",
        " \n"
      ],
      "metadata": {
        "id": "0nim0bZaohav"
      },
      "execution_count": 21,
      "outputs": []
    },
    {
      "cell_type": "code",
      "source": [
        "num_generations = 15;\n",
        "num_parents_mating = 4\n",
        "AllMax=[];\n",
        "for generation in range(num_generations):\n",
        "   # Measuring the fitness of each chromosome in the population.\n",
        "     fitness = ga_sin.cal_pop_fitness(new_value_population)\n",
        "   # Selecting the best parents in the population for mating.\n",
        "     parents = ga_sin.select_mating_pool(new_value_population, fitness,num_parents_mating)\n",
        "   # Generating next generation using crossover.\n",
        "     offspring_crossover = ga_sin.crossover(ga_sin.int_to_bin(parents), 4,\"one-point\")\n",
        "   # Adding some variations to the offsrping using mutation.\n",
        "     offspring_mutation = ga_sin.mutation(offspring_crossover,0.5)\n",
        "     int_offspring_mutation=[]\n",
        "     val=0\n",
        "     for i in range(len(offspring_mutation)):\n",
        "      val=ga_sin.gray_to_binary(offspring_mutation[i])\n",
        "      val=int(val,2)\n",
        "      int_offspring_mutation.append(val) \n",
        "     \n",
        "  # Creating the new population based on the parents and offspring.\n",
        "     new_value_population[0:len(parents)] = parents\n",
        "     new_value_population[len(parents):] = int_offspring_mutation\n",
        "     print(new_value_population);\n",
        "  #must store the value that outputs the maximum fitness in each iteration \n",
        "     Allfitness = ga_sin.cal_pop_fitness(new_value_population)\n",
        "     Maxfitness_idx=numpy.argmax(Allfitness)\n",
        "    #  if new_value_population[Maxfitness_idx] >MaxVal:\n",
        "    #    MaxVal=new_value_population[Maxfitness_idx]\n",
        "     AllMax.append(new_value_population[Maxfitness_idx])\n",
        "\n",
        "print(new_value_population);\n",
        "print(AllMax)"
      ],
      "metadata": {
        "colab": {
          "base_uri": "https://localhost:8080/"
        },
        "id": "SxOPAJs2e_MG",
        "outputId": "950f9b15-9d27-44c7-d48e-b536f365be32"
      },
      "execution_count": 127,
      "outputs": [
        {
          "output_type": "stream",
          "name": "stdout",
          "text": [
            "[130 130 131 131 130 130 130 140]\n",
            "[130 130 130 130 189 130 131 130]\n",
            "[130 130 130 130 131 130 129 130]\n",
            "[129 130 130 130 130 130 133 130]\n",
            "[129 130 130 130 141 129 130 189]\n",
            "[129 129 130 130 129 254 130 129]\n",
            "[129 129 129 129 130 129 129 126]\n",
            "[129 129 129 129 158 129 129 158]\n",
            "[129 129 129 129 129 129 142 158]\n",
            "[129 129 129 129 130 129 128 129]\n",
            "[128 129 129 129 142 128 129 142]\n",
            "[128 128 129 129 128 128 130 158]\n",
            "[128 128 128 128 128 255 128 159]\n",
            "[128 128 128 128 128 128 255 191]\n",
            "[128 128 128 128 128 128 131 135]\n",
            "[128 128 128 128 128 128 131 135]\n",
            "[130, 130, 129, 129, 129, 129, 129, 129, 129, 128, 128, 128, 128, 128, 128]\n"
          ]
        }
      ]
    },
    {
      "cell_type": "code",
      "source": [
        "import matplotlib.pyplot as plt\n",
        "import numpy as np\n",
        "ypoints = np.array([1, 2, 3, 4,5,6,7,8,9,10,11,12,13,14,15])\n",
        "\n",
        "plt.plot(ypoints,AllMax)\n",
        "plt.show()"
      ],
      "metadata": {
        "colab": {
          "base_uri": "https://localhost:8080/",
          "height": 265
        },
        "id": "uR4jwPXno_uB",
        "outputId": "5922d26c-1276-4adf-e3e2-81395634ad9d"
      },
      "execution_count": 128,
      "outputs": [
        {
          "output_type": "display_data",
          "data": {
            "text/plain": [
              "<Figure size 432x288 with 1 Axes>"
            ],
            "image/png": "[encoded data removed]"
          },
          "metadata": {
            "needs_background": "light"
          }
        }
      ]
    },
    {
      "cell_type": "markdown",
      "source": [
        "The GA for 2nd objective function "
      ],
      "metadata": {
        "id": "VTntRicc7x9a"
      }
    },
    {
      "cell_type": "code",
      "source": [
        "from google.colab import files\n",
        "files.upload()"
      ],
      "metadata": {
        "colab": {
          "base_uri": "https://localhost:8080/",
          "height": 639
        },
        "id": "gr7iM1Af7xBs",
        "outputId": "36133ce4-c040-4546-dd0e-e5465e5682b0"
      },
      "execution_count": 130,
      "outputs": [
        {
          "output_type": "display_data",
          "data": {
            "text/plain": [
              "<IPython.core.display.HTML object>"
            ],
            "text/html": [
              "\n",
              "     <input type=\"file\" id=\"files-d45a2b4d-64a4-4e8d-a0fa-28e09cdf5787\" name=\"files[]\" multiple disabled\n",
              "        style=\"border:none\" />\n",
              "     <output id=\"result-d45a2b4d-64a4-4e8d-a0fa-28e09cdf5787\">\n",
              "      Upload widget is only available when the cell has been executed in the\n",
              "      current browser session. Please rerun this cell to enable.\n",
              "      </output>\n",
              "      <script>// Copyright 2017 Google LLC\n",
              "//\n",
              "// Licensed under the Apache License, Version 2.0 (the \"License\");\n",
              "// you may not use this file except in compliance with the License.\n",
              "// You may obtain a copy of the License at\n",
              "//\n",
              "//      http://www.apache.org/licenses/LICENSE-2.0\n",
              "//\n",
              "// Unless required by applicable law or agreed to in writing, software\n",
              "// distributed under the License is distributed on an \"AS IS\" BASIS,\n",
              "// WITHOUT WARRANTIES OR CONDITIONS OF ANY KIND, either express or implied.\n",
              "// See the License for the specific language governing permissions and\n",
              "// limitations under the License.\n",
              "\n",
              "/**\n",
              " * @fileoverview Helpers for google.colab Python module.\n",
              " */\n",
              "(function(scope) {\n",
              "function span(text, styleAttributes = {}) {\n",
              "  const element = document.createElement('span');\n",
              "  element.textContent = text;\n",
              "  for (const key of Object.keys(styleAttributes)) {\n",
              "    element.style[key] = styleAttributes[key];\n",
              "  }\n",
              "  return element;\n",
              "}\n",
              "\n",
              "// Max number of bytes which will be uploaded at a time.\n",
              "const MAX_PAYLOAD_SIZE = 100 * 1024;\n",
              "\n",
              "function _uploadFiles(inputId, outputId) {\n",
              "  const steps = uploadFilesStep(inputId, outputId);\n",
              "  const outputElement = document.getElementById(outputId);\n",
              "  // Cache steps on the outputElement to make it available for the next call\n",
              "  // to uploadFilesContinue from Python.\n",
              "  outputElement.steps = steps;\n",
              "\n",
              "  return _uploadFilesContinue(outputId);\n",
              "}\n",
              "\n",
              "// This is roughly an async generator (not supported in the browser yet),\n",
              "// where there are multiple asynchronous steps and the Python side is going\n",
              "// to poll for completion of each step.\n",
              "// This uses a Promise to block the python side on completion of each step,\n",
              "// then passes the result of the previous step as the input to the next step.\n",
              "function _uploadFilesContinue(outputId) {\n",
              "  const outputElement = document.getElementById(outputId);\n",
              "  const steps = outputElement.steps;\n",
              "\n",
              "  const next = steps.next(outputElement.lastPromiseValue);\n",
              "  return Promise.resolve(next.value.promise).then((value) => {\n",
              "    // Cache the last promise value to make it available to the next\n",
              "    // step of the generator.\n",
              "    outputElement.lastPromiseValue = value;\n",
              "    return next.value.response;\n",
              "  });\n",
              "}\n",
              "\n",
              "/**\n",
              " * Generator function which is called between each async step of the upload\n",
              " * process.\n",
              " * @param {string} inputId Element ID of the input file picker element.\n",
              " * @param {string} outputId Element ID of the output display.\n",
              " * @return {!Iterable<!Object>} Iterable of next steps.\n",
              " */\n",
              "function* uploadFilesStep(inputId, outputId) {\n",
              "  const inputElement = document.getElementById(inputId);\n",
              "  inputElement.disabled = false;\n",
              "\n",
              "  const outputElement = document.getElementById(outputId);\n",
              "  outputElement.innerHTML = '';\n",
              "\n",
              "  const pickedPromise = new Promise((resolve) => {\n",
              "    inputElement.addEventListener('change', (e) => {\n",
              "      resolve(e.target.files);\n",
              "    });\n",
              "  });\n",
              "\n",
              "  const cancel = document.createElement('button');\n",
              "  inputElement.parentElement.appendChild(cancel);\n",
              "  cancel.textContent = 'Cancel upload';\n",
              "  const cancelPromise = new Promise((resolve) => {\n",
              "    cancel.onclick = () => {\n",
              "      resolve(null);\n",
              "    };\n",
              "  });\n",
              "\n",
              "  // Wait for the user to pick the files.\n",
              "  const files = yield {\n",
              "    promise: Promise.race([pickedPromise, cancelPromise]),\n",
              "    response: {\n",
              "      action: 'starting',\n",
              "    }\n",
              "  };\n",
              "\n",
              "  cancel.remove();\n",
              "\n",
              "  // Disable the input element since further picks are not allowed.\n",
              "  inputElement.disabled = true;\n",
              "\n",
              "  if (!files) {\n",
              "    return {\n",
              "      response: {\n",
              "        action: 'complete',\n",
              "      }\n",
              "    };\n",
              "  }\n",
              "\n",
              "  for (const file of files) {\n",
              "    const li = document.createElement('li');\n",
              "    li.append(span(file.name, {fontWeight: 'bold'}));\n",
              "    li.append(span(\n",
              "        `(${file.type || 'n/a'}) - ${file.size} bytes, ` +\n",
              "        `last modified: ${\n",
              "            file.lastModifiedDate ? file.lastModifiedDate.toLocaleDateString() :\n",
              "                                    'n/a'} - `));\n",
              "    const percent = span('0% done');\n",
              "    li.appendChild(percent);\n",
              "\n",
              "    outputElement.appendChild(li);\n",
              "\n",
              "    const fileDataPromise = new Promise((resolve) => {\n",
              "      const reader = new FileReader();\n",
              "      reader.onload = (e) => {\n",
              "        resolve(e.target.result);\n",
              "      };\n",
              "      reader.readAsArrayBuffer(file);\n",
              "    });\n",
              "    // Wait for the data to be ready.\n",
              "    let fileData = yield {\n",
              "      promise: fileDataPromise,\n",
              "      response: {\n",
              "        action: 'continue',\n",
              "      }\n",
              "    };\n",
              "\n",
              "    // Use a chunked sending to avoid message size limits. See b/62115660.\n",
              "    let position = 0;\n",
              "    do {\n",
              "      const length = Math.min(fileData.byteLength - position, MAX_PAYLOAD_SIZE);\n",
              "      const chunk = new Uint8Array(fileData, position, length);\n",
              "      position += length;\n",
              "\n",
              "      const base64 = btoa(String.fromCharCode.apply(null, chunk));\n",
              "      yield {\n",
              "        response: {\n",
              "          action: 'append',\n",
              "          file: file.name,\n",
              "          data: base64,\n",
              "        },\n",
              "      };\n",
              "\n",
              "      let percentDone = fileData.byteLength === 0 ?\n",
              "          100 :\n",
              "          Math.round((position / fileData.byteLength) * 100);\n",
              "      percent.textContent = `${percentDone}% done`;\n",
              "\n",
              "    } while (position < fileData.byteLength);\n",
              "  }\n",
              "\n",
              "  // All done.\n",
              "  yield {\n",
              "    response: {\n",
              "      action: 'complete',\n",
              "    }\n",
              "  };\n",
              "}\n",
              "\n",
              "scope.google = scope.google || {};\n",
              "scope.google.colab = scope.google.colab || {};\n",
              "scope.google.colab._files = {\n",
              "  _uploadFiles,\n",
              "  _uploadFilesContinue,\n",
              "};\n",
              "})(self);\n",
              "</script> "
            ]
          },
          "metadata": {}
        },
        {
          "output_type": "stream",
          "name": "stdout",
          "text": [
            "Saving ga_for_fn.py to ga_for_fn.py\n"
          ]
        },
        {
          "output_type": "execute_result",
          "data": {
            "text/plain": [
              "{'ga_for_fn.py': b'# -*- coding: utf-8 -*-\\n\"\"\"GA_for_fn.ipynb\\n\\nAutomatically generated by Colaboratory.\\n\\nOriginal file is located at\\n    https://colab.research.google.com/drive/121EdEBqwP6Zfbq-Q4pHudSDYvZNP7lC5\\n\"\"\"\\n\\nimport numpy\\nimport random\\n\\n# sol_per_pop = (1000,2) #x pop_per_sol=8\\n# num_parents_mating = 4\\n# pop_size = (sol_per_pop)\\n\\n# new_value_population = numpy.random.uniform(low=-5.0, high=5.0, size=pop_size)\\n\\n# new_value_population\\n\\ndef cal_pop_fitness(pop):\\n fitness=[0 for x in range(len(pop))] \\n for i in range(len(pop)):\\n  fitness[i] = (pop[i][0]-3.14)**2 +(pop[i][1]-2.72)**2+ numpy.sin((3*pop[i][0])+1.41)+ numpy.sin((4*pop[i][1])-1.73)\\n return fitness\\n\\ndef select_mating_pool(pop, fitness, num_parents):\\n # Selecting the best individuals in the current generation as parents for producing the offspring of the next generation.\\n parents = numpy.empty((num_parents, pop.shape[1])) \\n for parent_num in range(num_parents):\\n  min_fitness_idx = numpy.where(fitness == numpy.min(fitness))\\n  min_fitness_idx = min_fitness_idx[0][0]\\n  parents[parent_num, :] = pop[min_fitness_idx, :]\\n  fitness[min_fitness_idx] = 99999999999\\n return parents\\n\\ndef crossover(parents, offspring_size):\\n     offspring = numpy.empty(offspring_size)\\n     # The point at which crossover takes place between two parents. Usually, it is at the center.\\n     crossover_point = numpy.uint8(offspring_size[1]/2)\\n \\n     for k in range(offspring_size[0]):\\n         # Index of the first parent to mate.\\n         parent1_idx = k%parents.shape[0]\\n         # Index of the second parent to mate.\\n         parent2_idx = (k+1)%parents.shape[0]\\n         # The new offspring will have its first half of its genes taken from the first parent.\\n         offspring[k, 0:crossover_point] = parents[parent1_idx, 0:crossover_point]\\n         # The new offspring will have its second half of its genes taken from the second parent.\\n         offspring[k, crossover_point:] = parents[parent2_idx, crossover_point:]\\n     return offspring\\n\\ndef mutation(offspring_crossover,mutation_prob):\\n    #number of genes that are going to be mutated:\\n    mutation_number=round(len(offspring_crossover)*mutation_prob)\\n    #print(mutation_number)\\n    mutation_gene_idxs=random.sample(range(0, len(offspring_crossover)), mutation_number)\\n    #print(mutation_gene_idxs)\\n    for idx in mutation_gene_idxs:\\n        # The random value to be added to the gene.\\n        random_value = numpy.random.uniform(-5, 5, 1)\\n        #select randomly which input will be mutauted (the x or y)\\n        XorY = random.randint(0, 1)\\n        if XorY ==1:\\n          offspring_crossover[idx, 1] =  random_value\\n        else:\\n          offspring_crossover[idx, 0] =  random_value\\n\\n    return offspring_crossover\\n\\n# num_generations = 10;\\n# num_parents_mating = 50\\n# AllMin=[];\\n# AllMinFitness=[];\\n# for generation in range(num_generations):\\n#    # Measuring the fitness of each chromosome in the population.\\n#      fitness = cal_pop_fitness(new_value_population)\\n#    # Selecting the best parents in the population for mating.\\n#      parents = select_mating_pool(new_value_population, fitness,num_parents_mating)\\n#    # Generating next generation using crossover.\\n#      offspring_crossover = crossover(parents,offspring_size=(pop_size[0]-parents.shape[0], 2))\\n#    # Adding some variations to the offsrping using mutation.\\n#      offspring_mutation = mutation(offspring_crossover)\\n     \\n#   # Creating the new population based on the parents and offspring.\\n#      new_value_population[0:len(parents)] = parents\\n#      new_value_population[len(parents):] = offspring_mutation\\n#      #print(new_value_population);\\n#   #must store the value that outputs the maximum fitness in each iteration \\n#      Allfitness = cal_pop_fitness(new_value_population)\\n#      Minfitness_idx=numpy.argmin(Allfitness)\\n#     #  if new_value_population[Maxfitness_idx] >MaxVal:\\n#     #    MaxVal=new_value_population[Maxfitness_idx]\\n#      AllMin.append(new_value_population[Minfitness_idx])\\n#      AllMinFitness.append(min(Allfitness))\\n\\n# print(new_value_population);\\n# print(AllMin)\\n# print(AllMinFitness)\\n\\n# gen=[0 for x in range(len(AllMin))] \\n# for n in range(10):\\n#   gen[n]=n+1\\n\\n# gen\\n\\n# import matplotlib.pyplot as plt\\n# import numpy as np\\n# ypoints = np.array([1, 2, 3, 4,5,6,7,8,9,10,11,12,13,14,15])\\n\\n# plt.plot(gen,AllMinFitness)\\n# plt.show()\\n\\n# ALLX=[0 for x in range(len(AllMin))] \\n# ALLY=[0 for x in range(len(AllMin))] \\n\\n# for x in range(len(AllMin)):\\n#   ALLX[x]=AllMin[x][0]\\n#   ALLY[x]=AllMin[x][1]\\n\\n# print(ALLX)\\n# print(ALLY)\\n\\n# import matplotlib.pyplot as plt\\n# x = ALLX\\n# y = ALLY\\n# print(x)\\n# print(y)\\n# # n = AllMinFitness\\n\\n# plt.scatter(x, y, c =\"blue\")\\n# plt.show()\\n\\n# # for i, txt in enumerate(n):\\n# #     ax.annotate(txt, (z[i], y[i]))'}"
            ]
          },
          "metadata": {},
          "execution_count": 130
        }
      ]
    },
    {
      "cell_type": "code",
      "source": [
        "import ga_for_fn as ga2\n"
      ],
      "metadata": {
        "id": "cDYkAtzD9vCb"
      },
      "execution_count": 131,
      "outputs": []
    },
    {
      "cell_type": "code",
      "source": [
        "import numpy\n",
        "import random"
      ],
      "metadata": {
        "id": "wtgfv5ro94Sd"
      },
      "execution_count": 132,
      "outputs": []
    },
    {
      "cell_type": "code",
      "source": [
        "sol_per_pop = (1000,2) #x pop_per_sol=8\n",
        "num_parents_mating = 4\n",
        "pop_size = (sol_per_pop)\n",
        "\n",
        "new_value_population = numpy.random.uniform(low=-5.0, high=5.0, size=pop_size)\n",
        "\n",
        "new_value_population"
      ],
      "metadata": {
        "colab": {
          "base_uri": "https://localhost:8080/"
        },
        "id": "bTSI0YCz7xLE",
        "outputId": "4e259cc6-f224-4c42-f72c-4c25855fd275"
      },
      "execution_count": 133,
      "outputs": [
        {
          "output_type": "execute_result",
          "data": {
            "text/plain": [
              "array([[-3.76757153,  2.4302375 ],\n",
              "       [ 2.33372624,  4.60909041],\n",
              "       [-1.59184308,  1.08355436],\n",
              "       ...,\n",
              "       [-2.2701188 , -1.98640671],\n",
              "       [-0.20452821, -1.18931781],\n",
              "       [-2.07294103, -2.10211392]])"
            ]
          },
          "metadata": {},
          "execution_count": 133
        }
      ]
    },
    {
      "cell_type": "code",
      "source": [
        "num_generations = 10;\n",
        "num_parents_mating = 50\n",
        "AllMin=[];\n",
        "AllMinFitness=[];\n",
        "for generation in range(num_generations):\n",
        "   # Measuring the fitness of each chromosome in the population.\n",
        "     fitness = ga2.cal_pop_fitness(new_value_population)\n",
        "   # Selecting the best parents in the population for mating.\n",
        "     parents = ga2.select_mating_pool(new_value_population, fitness,num_parents_mating)\n",
        "   # Generating next generation using crossover.\n",
        "     offspring_crossover = ga2.crossover(parents,offspring_size=(pop_size[0]-parents.shape[0], 2))\n",
        "   # Adding some variations to the offsrping using mutation.\n",
        "     offspring_mutation = ga2.mutation(offspring_crossover,0.5)\n",
        "     \n",
        "  # Creating the new population based on the parents and offspring.\n",
        "     new_value_population[0:len(parents)] = parents\n",
        "     new_value_population[len(parents):] = offspring_mutation\n",
        "     #print(new_value_population);\n",
        "  #must store the value that outputs the maximum fitness in each iteration \n",
        "     Allfitness = ga2.cal_pop_fitness(new_value_population)\n",
        "     Minfitness_idx=numpy.argmin(Allfitness)\n",
        "    #  if new_value_population[Maxfitness_idx] >MaxVal:\n",
        "    #    MaxVal=new_value_population[Maxfitness_idx]\n",
        "     AllMin.append(new_value_population[Minfitness_idx])\n",
        "     AllMinFitness.append(min(Allfitness))\n",
        "\n",
        "print(new_value_population);\n",
        "print(AllMin)\n",
        "print(AllMinFitness)"
      ],
      "metadata": {
        "colab": {
          "base_uri": "https://localhost:8080/"
        },
        "id": "E7GJY9Vf7xNX",
        "outputId": "38ae8222-5888-40ff-c4cf-830befb9bf4b"
      },
      "execution_count": 134,
      "outputs": [
        {
          "output_type": "stream",
          "name": "stdout",
          "text": [
            "[[ 3.18409982  3.12832904]\n",
            " [ 3.18409982  3.12832904]\n",
            " [ 3.18409982  3.12832904]\n",
            " ...\n",
            " [ 3.18409982  3.12832904]\n",
            " [-1.15463621  3.12832904]\n",
            " [ 3.18409982  3.12832904]]\n",
            "[array([3.18409982, 3.12832904]), array([3.18409982, 3.12832904]), array([2.48633087, 3.12832904]), array([3.18409982, 3.12832904]), array([3.18409982, 3.12832904]), array([3.18409982, 3.12832904]), array([3.18409982, 3.12832904]), array([3.18409982, 3.12832904]), array([3.18409982, 3.12832904]), array([3.18409982, 3.12832904])]\n",
            "[-1.7793793053187235, -1.7793793053187235, -1.7951858168575714, -1.8081552051764758, -1.8081552051764758, -1.8081552051764758, -1.8083267375586967, -1.8083267375586967, -1.8083267375586967, -1.8083267375586967]\n"
          ]
        }
      ]
    },
    {
      "cell_type": "code",
      "source": [
        "gen=[0 for x in range(len(AllMin))] \n",
        "for n in range(10):\n",
        "  gen[n]=n+1\n",
        "\n",
        "gen"
      ],
      "metadata": {
        "colab": {
          "base_uri": "https://localhost:8080/"
        },
        "id": "pC6ASgXU7xQx",
        "outputId": "c50ba611-9a68-4cd1-be93-0e3742fd13ea"
      },
      "execution_count": 135,
      "outputs": [
        {
          "output_type": "execute_result",
          "data": {
            "text/plain": [
              "[1, 2, 3, 4, 5, 6, 7, 8, 9, 10]"
            ]
          },
          "metadata": {},
          "execution_count": 135
        }
      ]
    },
    {
      "cell_type": "code",
      "source": [
        "import matplotlib.pyplot as plt\n",
        "import numpy as np\n",
        "ypoints = np.array([1, 2, 3, 4,5,6,7,8,9,10,11,12,13,14,15])\n",
        "\n",
        "plt.plot(gen,AllMinFitness)\n",
        "plt.show()"
      ],
      "metadata": {
        "colab": {
          "base_uri": "https://localhost:8080/",
          "height": 265
        },
        "id": "he2_UYVY8lhb",
        "outputId": "0684d2b4-5654-4748-c210-3bab963235d1"
      },
      "execution_count": 136,
      "outputs": [
        {
          "output_type": "display_data",
          "data": {
            "text/plain": [
              "<Figure size 432x288 with 1 Axes>"
            ],
            "image/png": "[encoded data removed]"
          },
          "metadata": {
            "needs_background": "light"
          }
        }
      ]
    }
  ]
}